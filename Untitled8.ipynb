{
  "nbformat": 4,
  "nbformat_minor": 0,
  "metadata": {
    "colab": {
      "provenance": [],
      "authorship_tag": "ABX9TyOvwX4yW9QDhzW9gLtHHt4y",
      "include_colab_link": true
    },
    "kernelspec": {
      "name": "python3",
      "display_name": "Python 3"
    },
    "language_info": {
      "name": "python"
    }
  },
  "cells": [
    {
      "cell_type": "markdown",
      "metadata": {
        "id": "view-in-github",
        "colab_type": "text"
      },
      "source": [
        "<a href=\"https://colab.research.google.com/github/2bahaa/AI-cat-Image-Detector-/blob/main/Untitled8.ipynb\" target=\"_parent\"><img src=\"https://colab.research.google.com/assets/colab-badge.svg\" alt=\"Open In Colab\"/></a>"
      ]
    },
    {
      "cell_type": "code",
      "execution_count": null,
      "metadata": {
        "id": "HqZUe3xSZq9M"
      },
      "outputs": [],
      "source": [
        "!pip install tensorflow_probability==0.8.0rc0 --user --upgrade   #install tensorflow_probability\n",
        "%tensorflow_version 2.x  # this line is not required unless you are in a notebook"
      ]
    },
    {
      "cell_type": "code",
      "source": [
        "import tensorflow_probability as tfp      #import different module for hidden markov model\n",
        "import tensorflow as tf                   #import tensorflow\n",
        "\n",
        "\n",
        "\n",
        "tfd=tfp.distributions                                      #create a shortcut for distributions\n",
        "initial_dist=tfd.Categorical(probs=[0.2,0.8])              #create the initial state distribution for model\n",
        "trans_dist=tfd.Categorical(probs=[[0.5,0.5],[0.2,0.8]])    #create the transition distribution for model\n",
        "obs_dist=tfd.Normal(loc=[0.,15],scale=[5.,10.])            #create the observation distribution for model\n",
        "\n",
        "\n",
        "#Build the hiden markov model\n",
        "model=tfd.HiddenMarkovModel(initial_distribution=initial_dist,transition_distribution=trans_dist,observation_distribution=obs_dist,num_steps=7)\n",
        "\n",
        "\n",
        "mean=model.mean() #partialy computed tensor so evaluate it by defining a session\n",
        "\n",
        "with tf.compat.v1.Session() as sess:\n",
        " print(mean.numpy())\n",
        "\n",
        "\n",
        "\n",
        "\n",
        "\n",
        "\n"
      ],
      "metadata": {
        "colab": {
          "base_uri": "https://localhost:8080/"
        },
        "id": "XSbKVpXnba9i",
        "outputId": "529fdf82-f85b-4906-af8c-4bb3400450e4"
      },
      "execution_count": 12,
      "outputs": [
        {
          "output_type": "stream",
          "name": "stdout",
          "text": [
            "[11.999999 11.1      10.830001 10.748999 10.724699 10.71741  10.715222]\n"
          ]
        }
      ]
    }
  ]
}